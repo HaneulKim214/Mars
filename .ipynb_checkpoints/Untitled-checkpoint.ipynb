{
 "cells": [
  {
   "cell_type": "code",
   "execution_count": 1,
   "metadata": {},
   "outputs": [],
   "source": [
    "import pymongo\n",
    "import pandas as pd\n",
    "import requests\n",
    "from bs4 import BeautifulSoup\n",
    "from splinter import Browser"
   ]
  },
  {
   "cell_type": "code",
   "execution_count": 15,
   "metadata": {},
   "outputs": [],
   "source": [
    "executable_path = {\"executable_path\":\"chromedriver.exe\"}\n",
    "browser = Browser('chrome', **executable_path, headless=False)"
   ]
  },
  {
   "cell_type": "code",
   "execution_count": 3,
   "metadata": {},
   "outputs": [],
   "source": [
    "# Scrape NASA Mars News Site\n",
    "url = \"https://mars.nasa.gov/news/?page=0&per_page=40&order=publish_date+desc%2Ccreated_at+desc&search=&category=19%2C165%2C184%2C204&blank_scope=Latest\"\n",
    "\n",
    "browser.visit(url)\n",
    "html = browser.html\n",
    "soup = BeautifulSoup(html, 'html.parser')"
   ]
  },
  {
   "cell_type": "markdown",
   "metadata": {},
   "source": [
    "#### NASA Mars News"
   ]
  },
  {
   "cell_type": "code",
   "execution_count": 4,
   "metadata": {},
   "outputs": [],
   "source": [
    "# collect latest News title and paragraph Text\n",
    "headers = soup.find_all(\"div\", class_=\"list_text\")\n",
    "for header in headers:\n",
    "    title = header.find(\"div\", class_=\"content_title\").text\n",
    "    parag = header.find(\"div\", class_=\"article_teaser_body\").text\n"
   ]
  },
  {
   "cell_type": "markdown",
   "metadata": {},
   "source": [
    "#### JPL Mars Space Images - Featured Image"
   ]
  },
  {
   "cell_type": "code",
   "execution_count": 5,
   "metadata": {},
   "outputs": [],
   "source": [
    "url = \"https://www.jpl.nasa.gov/spaceimages/?search=&category=Mars\"\n",
    "\n",
    "browser.visit(url)\n",
    "html = browser.html\n",
    "soup = BeautifulSoup(html, 'html.parser')"
   ]
  },
  {
   "cell_type": "code",
   "execution_count": 6,
   "metadata": {},
   "outputs": [],
   "source": [
    "featured_image_url = soup.find(\"div\",\"carousel_container\").article[\"style\"]\n",
    "featured_image_url = featured_image_url[23:]\n",
    "featured_image_url = featured_image_url[:-3]\n",
    "featured_image_url = \"https://www.jpl.nasa.gov\" + featured_image_url\n"
   ]
  },
  {
   "cell_type": "markdown",
   "metadata": {},
   "source": [
    "#### Mars Weather"
   ]
  },
  {
   "cell_type": "code",
   "execution_count": 7,
   "metadata": {},
   "outputs": [],
   "source": [
    "url = \"https://twitter.com/marswxreport?lang=en\"\n",
    "browser.visit(url)\n",
    "html = browser.html\n",
    "soup = BeautifulSoup(html, 'html.parser')"
   ]
  },
  {
   "cell_type": "code",
   "execution_count": 8,
   "metadata": {},
   "outputs": [],
   "source": [
    "# Scrape latest Mars weather tweet.\n",
    "# \"find\" will always find the latest(very top) weather tweet\n",
    "mars_weather = soup.find(\"p\", class_=\"tweet-text\").text \n"
   ]
  },
  {
   "cell_type": "markdown",
   "metadata": {},
   "source": [
    "#### Mars Facts"
   ]
  },
  {
   "cell_type": "code",
   "execution_count": 16,
   "metadata": {},
   "outputs": [],
   "source": [
    "url = \"https://space-facts.com/mars/\"\n",
    "browser.visit(url)\n",
    "html = browser.html\n",
    "soup = BeautifulSoup(html, 'html.parser')"
   ]
  },
  {
   "cell_type": "code",
   "execution_count": 56,
   "metadata": {},
   "outputs": [],
   "source": [
    "# Use pandas to scrape table\n",
    "# We see here is only one table therefore simply call [0]'th item\n",
    "table = pd.read_html(str(soup.find_all(\"table\")[0]))\n",
    "df = table[0]"
   ]
  },
  {
   "cell_type": "code",
   "execution_count": 57,
   "metadata": {},
   "outputs": [],
   "source": [
    "df.columns = [\"description\", \"values\"]\n",
    "df.set_index(\"description\", inplace=True)\n",
    "data = df.to_html()\n",
    "final_dict[\"table\"] = data"
   ]
  },
  {
   "cell_type": "markdown",
   "metadata": {},
   "source": [
    "#### Mars Hemispheres"
   ]
  },
  {
   "cell_type": "code",
   "execution_count": 13,
   "metadata": {},
   "outputs": [],
   "source": [
    "url = \"https://astrogeology.usgs.gov/search/results?q=hemisphere+enhanced&k1=target&v1=Mars\"\n",
    "browser.visit(url)\n",
    "html = browser.html\n",
    "soup = BeautifulSoup(html, 'html.parser')\n",
    "soup.find(\"div\", class_=\"results\")\n",
    "products = soup.find_all(\"div\", class_=\"item\")\n",
    "\n",
    "link_list = []\n",
    "# looping through each block of hemispheres\n",
    "for product in products:\n",
    "    # extract link, make it full link and append to a list\n",
    "    link_list.append(\"https://astrogeology.usgs.gov\" + product.a[\"href\"])\n",
    "\n",
    "\n",
    "\n",
    "# not we can loop through each link and extract info and store into list as dict\n",
    "hemisphere_image_urls = []\n",
    "for link in link_list:\n",
    "    browser.visit(link)\n",
    "    html = browser.html\n",
    "    soup = BeautifulSoup(html, \"html.parser\")\n",
    "    \n",
    "    # img url\n",
    "    img_url = \"https://astrogeology.usgs.gov\" + soup.find(\"div\", class_=\"wide-image-wrapper\").find(\"img\",class_=\"wide-image\")[\"src\"]\n",
    "    \n",
    "    # Hesmisphere title, drop \"Enhanced\" for each title\n",
    "    hem_title = soup.find(\"section\", class_=\"block\").find(\"h2\", class_=\"title\").text\n",
    "    hem_title = hem_title[:-9]\n",
    "    \n",
    "    hemisphere_image_urls.append({\"title\": hem_title, \"img_url\":img_url})"
   ]
  },
  {
   "cell_type": "code",
   "execution_count": 58,
   "metadata": {},
   "outputs": [
    {
     "data": {
      "text/plain": [
       "[{'title': 'Cerberus Hemisphere',\n",
       "  'img_url': 'https://astrogeology.usgs.gov/cache/images/cfa62af2557222a02478f1fcd781d445_cerberus_enhanced.tif_full.jpg'},\n",
       " {'title': 'Schiaparelli Hemisphere',\n",
       "  'img_url': 'https://astrogeology.usgs.gov/cache/images/3cdd1cbf5e0813bba925c9030d13b62e_schiaparelli_enhanced.tif_full.jpg'},\n",
       " {'title': 'Syrtis Major Hemisphere',\n",
       "  'img_url': 'https://astrogeology.usgs.gov/cache/images/ae209b4e408bb6c3e67b6af38168cf28_syrtis_major_enhanced.tif_full.jpg'},\n",
       " {'title': 'Valles Marineris Hemisphere',\n",
       "  'img_url': 'https://astrogeology.usgs.gov/cache/images/7cf2da4bf549ed01c17f206327be4db7_valles_marineris_enhanced.tif_full.jpg'}]"
      ]
     },
     "execution_count": 58,
     "metadata": {},
     "output_type": "execute_result"
    }
   ],
   "source": [
    "hemisphere_image_urls"
   ]
  },
  {
   "cell_type": "code",
   "execution_count": 65,
   "metadata": {},
   "outputs": [],
   "source": [
    "executable_path = {\"executable_path\":\"chromedriver.exe\"}\n",
    "browser = Browser('chrome', **executable_path, headless=False)\n",
    "# Scrape NASA Mars News Site\n",
    "url = \"https://mars.nasa.gov/news/?page=0&per_page=40&order=publish_date+desc%2Ccreated_at+desc&search=&category=19%2C165%2C184%2C204&blank_scope=Latest\"\n",
    "browser.visit(url)\n",
    "html = browser.html\n",
    "soup = BeautifulSoup(html, 'html.parser')\n",
    "\n",
    "news_list = []\n",
    "# collect latest News title and paragraph Text\n",
    "headers = soup.find_all(\"div\", class_=\"list_text\")\n",
    "for header in headers:\n",
    "    news_title = header.find(\"div\", class_=\"content_title\").text\n",
    "    parag = header.find(\"div\", class_=\"article_teaser_body\").text\n",
    "    news_list.append({\"news_title\": news_title, \"news_desc\": parag})"
   ]
  },
  {
   "cell_type": "code",
   "execution_count": 66,
   "metadata": {},
   "outputs": [
    {
     "data": {
      "text/plain": [
       "[{'news_title': \"Curiosity Tastes First Sample in 'Clay-Bearing Unit'\",\n",
       "  'news_desc': 'This new region on Mars might reveal more about the role of water on Mount Sharp.'},\n",
       " {'news_title': \"More Testing for Mars InSight's 'Mole'\",\n",
       "  'news_desc': \"After the mission's heat probe began hammering last week, it appears to have hit a rock. The team is analyzing data before they hammer again.\"},\n",
       " {'news_title': 'NASA Garners 7 Webby Award Nominations',\n",
       "  'news_desc': 'Nominees include four JPL projects: the solar system and climate websites, InSight social media, and a 360-degree Earth video. Public voting closes April 18, 2019.'},\n",
       " {'news_title': 'Curiosity Captured Two Solar Eclipses on Mars',\n",
       "  'news_desc': 'Observing the Martian moons Phobos and Deimos crossing in front of the Sun helps scientists better understand their orbits.'},\n",
       " {'news_title': \"NASA's Mars Helicopter Completes Flight Tests\",\n",
       "  'news_desc': 'The first helicopter to fly on Mars had its first flight on Earth.'},\n",
       " {'news_title': 'Asteroids, Hydrogen Make Great Recipe for Life on Mars',\n",
       "  'news_desc': 'Laser blasts in lab tests suggest asteroid bombardment could have provided key ingredients for life on ancient Mars.'},\n",
       " {'news_title': \"Catch NASA's JPL at the Clippers SciFest This Weekend\",\n",
       "  'news_desc': \"Students and families can meet a Mars rover, take a virtual tour through our solar system and explore alien worlds with NASA's Jet Propulsion Laboratory at the Clippers SciFest SoCal.\"},\n",
       " {'news_title': \"NASA's Mars 2020 Rover Is Put to the Test\",\n",
       "  'news_desc': \"In January, Mars 2020 engineers and technicians took over JPL's cleanroom to put the mission's cruise, entry capsule, descent stage and rover through their paces.\"},\n",
       " {'news_title': \"Opportunity's Parting Shot Was a Beautiful Panorama\",\n",
       "  'news_desc': \"NASA declared the record-setting rover's mission complete on Feb. 13, 2019, but the final image from the rover has just been processed.\"},\n",
       " {'news_title': 'Curiosity Resumes Operations After Switching Computers',\n",
       "  'news_desc': \"Curiosity experienced a computer reset on its Side-A computer on Wednesday, March 6, 2019 (Sol 2,339), that triggered the rover's safe mode.\"},\n",
       " {'news_title': 'InSight Lands Praise and a Proclamation from LA County',\n",
       "  'news_desc': 'Several members of the Mars InSight team accepted a proclamation on behalf of the mission from L.A. County Board of Supervisors on Tuesday, Feb. 19.'},\n",
       " {'news_title': 'InSight Is the Newest Mars Weather Service',\n",
       "  'news_desc': \"By collecting data around the clock, NASA's lander will provide unique science about the Martian surface.\"},\n",
       " {'news_title': \"Six Things to Know About NASA's Opportunity Rover\",\n",
       "  'news_desc': \"Opportunity's mission is complete. Here are highlights from its time on Mars.\"},\n",
       " {'news_title': \"NASA's Opportunity Rover Mission on Mars Comes to End\",\n",
       "  'news_desc': \"NASA's Opportunity Mars rover mission is complete after 15 years on Mars. Opportunity's record-breaking exploration laid the groundwork for future missions to the Red Planet.\"},\n",
       " {'news_title': \"NASA's InSight Prepares to Take Mars' Temperature\",\n",
       "  'news_desc': \"The lander's second instrument is on the ground. But its ‘mole’ — a burrowing probe — has a long way to go.\"},\n",
       " {'news_title': 'NASA to Share Results of Effort to Recover Mars Rover',\n",
       "  'news_desc': 'NASA will discuss the status of its Mars Exploration Rover Opportunity in a media briefing at 11 a.m. PST (2 p.m. EST) Wednesday, Feb. 13, from the Jet Propulsion Laboratory.'},\n",
       " {'news_title': \"NASA's MAVEN Spacecraft Shrinking its Mars Orbit to Prepare for Mars 2020 Rover\",\n",
       "  'news_desc': 'The MAVEN spacecraft today is starting a campaign to tighten its orbit around Mars to prepare to serve as a data-relay satellite for NASA’s Mars 2020 rover, which launches next year.'},\n",
       " {'news_title': '360 Video: Curiosity Rover Departs Vera Rubin Ridge',\n",
       "  'news_desc': \"This panorama from the Mast Camera (Mastcam) on NASA's Curiosity Mars rover was taken on Dec. 19 (Sol 2265). The rover's last drill location on Vera Rubin Ridge is visible, as well as the clay region it will spend the next year exploring.\"},\n",
       " {'news_title': 'Beyond Mars, the Mini MarCO Spacecraft Fall Silent',\n",
       "  'news_desc': 'The first CubeSat mission to deep space may have reached their limit, but they could inspire future NASA missions.'},\n",
       " {'news_title': \"InSight's Seismometer Now Has a Cozy Shelter on Mars\",\n",
       "  'news_desc': \"A domed shield has been set over one of InSight's primary science instruments, protecting it from Mars' wind and temperature changes.\"},\n",
       " {'news_title': '\"Mars Buggy\" Curiosity Measures a Mountain\\'s Gravity',\n",
       "  'news_desc': 'Smartphone-like sensors on the NASA rover were used to calculate the density of Mount Sharp, offering new clues to its formation.'},\n",
       " {'news_title': \"Curiosity Says Farewell to Mars' Vera Rubin Ridge\",\n",
       "  'news_desc': \"The Mars rover is moving on and has taken its last selfie on the ridge it's explored for more than a year.\"},\n",
       " {'news_title': 'Rover Team Beaming New Commands to Opportunity on Mars',\n",
       "  'news_desc': 'Engineers at JPL have begun transmitting a new set of commands to Opportunity in an attempt to compel the Mars rover to contact Earth.'},\n",
       " {'news_title': \"NASA's Opportunity Rover Logs 15 Years on Mars\",\n",
       "  'news_desc': 'The rover landed in a region of the Red Planet called Meridiani Planum 16 years ago today, on Jan. 24, 2004.'},\n",
       " {'news_title': \"NASA's InSight Places First Instrument on Mars\",\n",
       "  'news_desc': 'In deploying its first instrument onto the surface of Mars, the lander completes a major mission milestone.'},\n",
       " {'news_title': 'InSight Engineers Have Made a Martian Rock Garden',\n",
       "  'news_desc': \"Reconstructing Mars here on Earth lets them practice setting down the lander's science instruments.\"},\n",
       " {'news_title': 'Mars InSight Lander Seen in First Images from Space ',\n",
       "  'news_desc': \"Look closely, and you can make out the lander's solar panels.\"},\n",
       " {'news_title': \"NASA's InSight Takes Its First Selfie\",\n",
       "  'news_desc': 'Two new image mosaics detail the lander\\'s deck and \"workspace\" — the surface where it will eventually set down its science instruments.'},\n",
       " {'news_title': \"NASA InSight Lander 'Hears' Martian Winds \",\n",
       "  'news_desc': 'Vibrations picked up by two spacecraft instruments have provided the first sounds of Martian wind.'},\n",
       " {'news_title': \"NASA's Mars InSight Flexes Its Arm\",\n",
       "  'news_desc': \"Now unstowed, the spacecraft's robotic arm will point a camera located on its elbow and take images of the surroundings.\"},\n",
       " {'news_title': \"Mars New Home 'a Large Sandbox'\",\n",
       "  'news_desc': \"With InSight safely on the surface of Mars, the mission team is busy learning more about the spacecraft's landing site.\"},\n",
       " {'news_title': 'NASA Hears MarCO CubeSats Loud and Clear from Mars ',\n",
       "  'news_desc': \"A pair of tiny, experimental spacecraft fulfilled their mission yesterday, relaying back near-real-time data during InSight's landing.\"},\n",
       " {'news_title': 'InSight Is Catching Rays on Mars',\n",
       "  'news_desc': 'The lander has sent data indicating its solar panels are open and receiving sunlight to power its surface operations.'},\n",
       " {'news_title': 'NASA InSight Lander Arrives on Martian Surface ',\n",
       "  'news_desc': 'The touchdown marks the eighth time NASA has successfully landed a spacecraft on Mars.'},\n",
       " {'news_title': 'Landing Day for InSight',\n",
       "  'news_desc': \"NASA's InSight spacecraft is on target for Mars landing at around noon PST today.\"},\n",
       " {'news_title': 'NASA InSight Landing on Mars: Milestones',\n",
       "  'news_desc': \"On Nov. 26, NASA's InSight spacecraft will blaze through the Martian atmosphere and set a lander gently on the surface in less time than it takes to cook a hard-boiled egg.\"},\n",
       " {'news_title': 'NASA InSight Team on Course for Mars Touchdown',\n",
       "  'news_desc': \"NASA's Mars InSight spacecraft is on track for a soft touchdown on the surface of the Red Planet on Nov. 26.\"},\n",
       " {'news_title': 'What Two Planetary Siblings Can Teach Us About Life',\n",
       "  'news_desc': \"In studying Mars, NASA's InSight will reveal what makes one planet more or less suitable for life than another.\"},\n",
       " {'news_title': 'NASA Announces Landing Site for Mars 2020 Rover',\n",
       "  'news_desc': 'After a five-year search, NASA has chosen Jezero Crater as the landing site for its upcoming Mars 2020 rover mission.'},\n",
       " {'news_title': 'NASA to Host Media Call on Next Mars Landing Site',\n",
       "  'news_desc': 'NASA will host a media teleconference at 9 a.m. PST (noon EST) Monday, Nov. 19, to provide details about the Mars 2020 rover’s landing site on the Red Planet.'}]"
      ]
     },
     "execution_count": 66,
     "metadata": {},
     "output_type": "execute_result"
    }
   ],
   "source": [
    "news_list"
   ]
  },
  {
   "cell_type": "code",
   "execution_count": 82,
   "metadata": {},
   "outputs": [
    {
     "name": "stdout",
     "output_type": "stream",
     "text": [
      "[{'key': 'Value', 'kk': 'sd'}]\n",
      "{'1': '2'}\n",
      "{'a': 'b'}\n",
      "{'1': '2', 'a': 'b'}\n",
      "{'key': 'kk'}\n"
     ]
    }
   ],
   "source": [
    "my_list = []\n",
    "\n",
    "my_list.append({\"key\":\"Value\",\"kk\":\"sd\"})\n",
    "\n",
    "my_dict = {\"1\":\"2\"}\n",
    "my_dict2 = {\"a\":\"b\"}\n",
    "print(my_list)\n",
    "print(my_dict)\n",
    "print(my_dict2)\n",
    "\n",
    "final_dict = dict(my_dict, **my_dict2)\n",
    "print(final_dict)\n",
    "\n",
    "print(dict(my_list))"
   ]
  },
  {
   "cell_type": "markdown",
   "metadata": {},
   "source": [
    "### All Codes together:"
   ]
  },
  {
   "cell_type": "code",
   "execution_count": 67,
   "metadata": {},
   "outputs": [
    {
     "data": {
      "text/plain": [
       "{'mars_news': [{'news_title': \"Curiosity Tastes First Sample in 'Clay-Bearing Unit'\",\n",
       "   'news_desc': 'This new region on Mars might reveal more about the role of water on Mount Sharp.'},\n",
       "  {'news_title': \"More Testing for Mars InSight's 'Mole'\",\n",
       "   'news_desc': \"After the mission's heat probe began hammering last week, it appears to have hit a rock. The team is analyzing data before they hammer again.\"},\n",
       "  {'news_title': 'NASA Garners 7 Webby Award Nominations',\n",
       "   'news_desc': 'Nominees include four JPL projects: the solar system and climate websites, InSight social media, and a 360-degree Earth video. Public voting closes April 18, 2019.'},\n",
       "  {'news_title': 'Curiosity Captured Two Solar Eclipses on Mars',\n",
       "   'news_desc': 'Observing the Martian moons Phobos and Deimos crossing in front of the Sun helps scientists better understand their orbits.'},\n",
       "  {'news_title': \"NASA's Mars Helicopter Completes Flight Tests\",\n",
       "   'news_desc': 'The first helicopter to fly on Mars had its first flight on Earth.'},\n",
       "  {'news_title': 'Asteroids, Hydrogen Make Great Recipe for Life on Mars',\n",
       "   'news_desc': 'Laser blasts in lab tests suggest asteroid bombardment could have provided key ingredients for life on ancient Mars.'},\n",
       "  {'news_title': \"Catch NASA's JPL at the Clippers SciFest This Weekend\",\n",
       "   'news_desc': \"Students and families can meet a Mars rover, take a virtual tour through our solar system and explore alien worlds with NASA's Jet Propulsion Laboratory at the Clippers SciFest SoCal.\"},\n",
       "  {'news_title': \"NASA's Mars 2020 Rover Is Put to the Test\",\n",
       "   'news_desc': \"In January, Mars 2020 engineers and technicians took over JPL's cleanroom to put the mission's cruise, entry capsule, descent stage and rover through their paces.\"},\n",
       "  {'news_title': \"Opportunity's Parting Shot Was a Beautiful Panorama\",\n",
       "   'news_desc': \"NASA declared the record-setting rover's mission complete on Feb. 13, 2019, but the final image from the rover has just been processed.\"},\n",
       "  {'news_title': 'Curiosity Resumes Operations After Switching Computers',\n",
       "   'news_desc': \"Curiosity experienced a computer reset on its Side-A computer on Wednesday, March 6, 2019 (Sol 2,339), that triggered the rover's safe mode.\"},\n",
       "  {'news_title': 'InSight Lands Praise and a Proclamation from LA County',\n",
       "   'news_desc': 'Several members of the Mars InSight team accepted a proclamation on behalf of the mission from L.A. County Board of Supervisors on Tuesday, Feb. 19.'},\n",
       "  {'news_title': 'InSight Is the Newest Mars Weather Service',\n",
       "   'news_desc': \"By collecting data around the clock, NASA's lander will provide unique science about the Martian surface.\"},\n",
       "  {'news_title': \"Six Things to Know About NASA's Opportunity Rover\",\n",
       "   'news_desc': \"Opportunity's mission is complete. Here are highlights from its time on Mars.\"},\n",
       "  {'news_title': \"NASA's Opportunity Rover Mission on Mars Comes to End\",\n",
       "   'news_desc': \"NASA's Opportunity Mars rover mission is complete after 15 years on Mars. Opportunity's record-breaking exploration laid the groundwork for future missions to the Red Planet.\"},\n",
       "  {'news_title': \"NASA's InSight Prepares to Take Mars' Temperature\",\n",
       "   'news_desc': \"The lander's second instrument is on the ground. But its ‘mole’ — a burrowing probe — has a long way to go.\"},\n",
       "  {'news_title': 'NASA to Share Results of Effort to Recover Mars Rover',\n",
       "   'news_desc': 'NASA will discuss the status of its Mars Exploration Rover Opportunity in a media briefing at 11 a.m. PST (2 p.m. EST) Wednesday, Feb. 13, from the Jet Propulsion Laboratory.'},\n",
       "  {'news_title': \"NASA's MAVEN Spacecraft Shrinking its Mars Orbit to Prepare for Mars 2020 Rover\",\n",
       "   'news_desc': 'The MAVEN spacecraft today is starting a campaign to tighten its orbit around Mars to prepare to serve as a data-relay satellite for NASA’s Mars 2020 rover, which launches next year.'},\n",
       "  {'news_title': '360 Video: Curiosity Rover Departs Vera Rubin Ridge',\n",
       "   'news_desc': \"This panorama from the Mast Camera (Mastcam) on NASA's Curiosity Mars rover was taken on Dec. 19 (Sol 2265). The rover's last drill location on Vera Rubin Ridge is visible, as well as the clay region it will spend the next year exploring.\"},\n",
       "  {'news_title': 'Beyond Mars, the Mini MarCO Spacecraft Fall Silent',\n",
       "   'news_desc': 'The first CubeSat mission to deep space may have reached their limit, but they could inspire future NASA missions.'},\n",
       "  {'news_title': \"InSight's Seismometer Now Has a Cozy Shelter on Mars\",\n",
       "   'news_desc': \"A domed shield has been set over one of InSight's primary science instruments, protecting it from Mars' wind and temperature changes.\"},\n",
       "  {'news_title': '\"Mars Buggy\" Curiosity Measures a Mountain\\'s Gravity',\n",
       "   'news_desc': 'Smartphone-like sensors on the NASA rover were used to calculate the density of Mount Sharp, offering new clues to its formation.'},\n",
       "  {'news_title': \"Curiosity Says Farewell to Mars' Vera Rubin Ridge\",\n",
       "   'news_desc': \"The Mars rover is moving on and has taken its last selfie on the ridge it's explored for more than a year.\"},\n",
       "  {'news_title': 'Rover Team Beaming New Commands to Opportunity on Mars',\n",
       "   'news_desc': 'Engineers at JPL have begun transmitting a new set of commands to Opportunity in an attempt to compel the Mars rover to contact Earth.'},\n",
       "  {'news_title': \"NASA's Opportunity Rover Logs 15 Years on Mars\",\n",
       "   'news_desc': 'The rover landed in a region of the Red Planet called Meridiani Planum 16 years ago today, on Jan. 24, 2004.'},\n",
       "  {'news_title': \"NASA's InSight Places First Instrument on Mars\",\n",
       "   'news_desc': 'In deploying its first instrument onto the surface of Mars, the lander completes a major mission milestone.'},\n",
       "  {'news_title': 'InSight Engineers Have Made a Martian Rock Garden',\n",
       "   'news_desc': \"Reconstructing Mars here on Earth lets them practice setting down the lander's science instruments.\"},\n",
       "  {'news_title': 'Mars InSight Lander Seen in First Images from Space ',\n",
       "   'news_desc': \"Look closely, and you can make out the lander's solar panels.\"},\n",
       "  {'news_title': \"NASA's InSight Takes Its First Selfie\",\n",
       "   'news_desc': 'Two new image mosaics detail the lander\\'s deck and \"workspace\" — the surface where it will eventually set down its science instruments.'},\n",
       "  {'news_title': \"NASA InSight Lander 'Hears' Martian Winds \",\n",
       "   'news_desc': 'Vibrations picked up by two spacecraft instruments have provided the first sounds of Martian wind.'},\n",
       "  {'news_title': \"NASA's Mars InSight Flexes Its Arm\",\n",
       "   'news_desc': \"Now unstowed, the spacecraft's robotic arm will point a camera located on its elbow and take images of the surroundings.\"},\n",
       "  {'news_title': \"Mars New Home 'a Large Sandbox'\",\n",
       "   'news_desc': \"With InSight safely on the surface of Mars, the mission team is busy learning more about the spacecraft's landing site.\"},\n",
       "  {'news_title': 'NASA Hears MarCO CubeSats Loud and Clear from Mars ',\n",
       "   'news_desc': \"A pair of tiny, experimental spacecraft fulfilled their mission yesterday, relaying back near-real-time data during InSight's landing.\"},\n",
       "  {'news_title': 'InSight Is Catching Rays on Mars',\n",
       "   'news_desc': 'The lander has sent data indicating its solar panels are open and receiving sunlight to power its surface operations.'},\n",
       "  {'news_title': 'NASA InSight Lander Arrives on Martian Surface ',\n",
       "   'news_desc': 'The touchdown marks the eighth time NASA has successfully landed a spacecraft on Mars.'},\n",
       "  {'news_title': 'Landing Day for InSight',\n",
       "   'news_desc': \"NASA's InSight spacecraft is on target for Mars landing at around noon PST today.\"},\n",
       "  {'news_title': 'NASA InSight Landing on Mars: Milestones',\n",
       "   'news_desc': \"On Nov. 26, NASA's InSight spacecraft will blaze through the Martian atmosphere and set a lander gently on the surface in less time than it takes to cook a hard-boiled egg.\"},\n",
       "  {'news_title': 'NASA InSight Team on Course for Mars Touchdown',\n",
       "   'news_desc': \"NASA's Mars InSight spacecraft is on track for a soft touchdown on the surface of the Red Planet on Nov. 26.\"},\n",
       "  {'news_title': 'What Two Planetary Siblings Can Teach Us About Life',\n",
       "   'news_desc': \"In studying Mars, NASA's InSight will reveal what makes one planet more or less suitable for life than another.\"},\n",
       "  {'news_title': 'NASA Announces Landing Site for Mars 2020 Rover',\n",
       "   'news_desc': 'After a five-year search, NASA has chosen Jezero Crater as the landing site for its upcoming Mars 2020 rover mission.'},\n",
       "  {'news_title': 'NASA to Host Media Call on Next Mars Landing Site',\n",
       "   'news_desc': 'NASA will host a media teleconference at 9 a.m. PST (noon EST) Monday, Nov. 19, to provide details about the Mars 2020 rover’s landing site on the Red Planet.'}],\n",
       " 'featued_image': 'https://www.jpl.nasa.gov/spaceimages/images/wallpaper/PIA18840-1920x1200.jpg',\n",
       " 'mars_weather': 'InSight sol 136 (2019-04-14) low -97.3ºC (-143.2ºF) high -16.5ºC (2.4ºF)\\nwinds from the WNW at 4.3 m/s (9.6 mph) gusting to 10.8 m/s (24.2 mph)\\npressure at 7.30 hPapic.twitter.com/OJFvEUR8OR',\n",
       " 'table': '<table border=\"1\" class=\"dataframe\">\\n  <thead>\\n    <tr style=\"text-align: right;\">\\n      <th></th>\\n      <th>values</th>\\n    </tr>\\n    <tr>\\n      <th>description</th>\\n      <th></th>\\n    </tr>\\n  </thead>\\n  <tbody>\\n    <tr>\\n      <th>Equatorial Diameter:</th>\\n      <td>6,792 km</td>\\n    </tr>\\n    <tr>\\n      <th>Polar Diameter:</th>\\n      <td>6,752 km</td>\\n    </tr>\\n    <tr>\\n      <th>Mass:</th>\\n      <td>6.42 x 10^23 kg (10.7% Earth)</td>\\n    </tr>\\n    <tr>\\n      <th>Moons:</th>\\n      <td>2 (Phobos &amp; Deimos)</td>\\n    </tr>\\n    <tr>\\n      <th>Orbit Distance:</th>\\n      <td>227,943,824 km (1.52 AU)</td>\\n    </tr>\\n    <tr>\\n      <th>Orbit Period:</th>\\n      <td>687 days (1.9 years)</td>\\n    </tr>\\n    <tr>\\n      <th>Surface Temperature:</th>\\n      <td>-153 to 20 °C</td>\\n    </tr>\\n    <tr>\\n      <th>First Record:</th>\\n      <td>2nd millennium BC</td>\\n    </tr>\\n    <tr>\\n      <th>Recorded By:</th>\\n      <td>Egyptian astronomers</td>\\n    </tr>\\n  </tbody>\\n</table>',\n",
       " 'hem_img_url': [{'title': 'Cerberus Hemisphere',\n",
       "   'img_url': 'https://astrogeology.usgs.gov/cache/images/cfa62af2557222a02478f1fcd781d445_cerberus_enhanced.tif_full.jpg'},\n",
       "  {'title': 'Schiaparelli Hemisphere',\n",
       "   'img_url': 'https://astrogeology.usgs.gov/cache/images/3cdd1cbf5e0813bba925c9030d13b62e_schiaparelli_enhanced.tif_full.jpg'},\n",
       "  {'title': 'Syrtis Major Hemisphere',\n",
       "   'img_url': 'https://astrogeology.usgs.gov/cache/images/ae209b4e408bb6c3e67b6af38168cf28_syrtis_major_enhanced.tif_full.jpg'},\n",
       "  {'title': 'Valles Marineris Hemisphere',\n",
       "   'img_url': 'https://astrogeology.usgs.gov/cache/images/7cf2da4bf549ed01c17f206327be4db7_valles_marineris_enhanced.tif_full.jpg'}]}"
      ]
     },
     "execution_count": 67,
     "metadata": {},
     "output_type": "execute_result"
    }
   ],
   "source": [
    "def scrape():\n",
    "    \"\"\" Scrape data from different urls and convert it into one dictionary\n",
    "    \"\"\"\n",
    "    import pymongo\n",
    "    import pandas as pd\n",
    "    import requests\n",
    "    from bs4 import BeautifulSoup\n",
    "    from splinter import Browser\n",
    "\n",
    "    # ------------ Scrape data from NASA Mars News ------------\n",
    "    executable_path = {\"executable_path\":\"chromedriver.exe\"}\n",
    "    browser = Browser('chrome', **executable_path, headless=False)\n",
    "    # Scrape NASA Mars News Site\n",
    "    url = \"https://mars.nasa.gov/news/?page=0&per_page=40&order=publish_date+desc%2Ccreated_at+desc&search=&category=19%2C165%2C184%2C204&blank_scope=Latest\"\n",
    "    browser.visit(url)\n",
    "    html = browser.html\n",
    "    soup = BeautifulSoup(html, 'html.parser')\n",
    "\n",
    "    news_list = []\n",
    "    # collect latest News title and paragraph Text\n",
    "    headers = soup.find_all(\"div\", class_=\"list_text\")\n",
    "    for header in headers:\n",
    "        news_title = header.find(\"div\", class_=\"content_title\").text\n",
    "        parag = header.find(\"div\", class_=\"article_teaser_body\").text\n",
    "        news_list.append({\"news_title\": news_title, \"news_desc\": parag})\n",
    "\n",
    "    # ---------- JPL MARS SPACE IMAGE ---------\n",
    "    url = \"https://www.jpl.nasa.gov/spaceimages/?search=&category=Mars\"\n",
    "    browser.visit(url)\n",
    "    html = browser.html\n",
    "    soup = BeautifulSoup(html, 'html.parser')\n",
    "    featured_image_url = soup.find(\"div\",\"carousel_container\").article[\"style\"]\n",
    "    featured_image_url = featured_image_url[23:]\n",
    "    featured_image_url = featured_image_url[:-3]\n",
    "    featured_image_url = \"https://www.jpl.nasa.gov\" + featured_image_url\n",
    "\n",
    "    # -------------- Mars Weather -----------\n",
    "    url = \"https://twitter.com/marswxreport?lang=en\"\n",
    "    browser.visit(url)\n",
    "    html = browser.html\n",
    "    soup = BeautifulSoup(html, 'html.parser')\n",
    "    # Scrape latest Mars weather tweet.\n",
    "    # \"find\" will always find the latest(very top) weather tweet\n",
    "    mars_weather = soup.find(\"p\", class_=\"tweet-text\").text \n",
    "\n",
    "\n",
    "    # ------------- Mars Facts -----------------\n",
    "    url = \"https://space-facts.com/mars/\"\n",
    "    browser.visit(url)\n",
    "    html = browser.html\n",
    "    soup = BeautifulSoup(html, 'html.parser')\n",
    "    # Use pandas to scrape table\n",
    "    # We see here is only one table therefore simply call [0]'th item\n",
    "    table = pd.read_html(str(soup.find_all(\"table\")[0]))\n",
    "    df = table[0]\n",
    "    df.columns = [\"description\", \"values\"]\n",
    "    df.set_index(\"description\", inplace=True)\n",
    "    table_html_data = df.to_html()\n",
    "\n",
    "    # ------------- Mars Hemisphere -------------\n",
    "    url = \"https://astrogeology.usgs.gov/search/results?q=hemisphere+enhanced&k1=target&v1=Mars\"\n",
    "    browser.visit(url)\n",
    "    html = browser.html\n",
    "    soup = BeautifulSoup(html, 'html.parser')\n",
    "    # soup.find(\"div\", class_=\"results\")\n",
    "    products = soup.find_all(\"div\", class_=\"item\")\n",
    "\n",
    "    link_list = []\n",
    "    # looping through each block of hemispheres\n",
    "    for product in products:\n",
    "        # extract link, make it full link and append to a list\n",
    "        link_list.append(\"https://astrogeology.usgs.gov\" + product.a[\"href\"])\n",
    "\n",
    "    # not we can loop through each link and extract info and store into list as dict\n",
    "    hemisphere_image_urls = []\n",
    "    for link in link_list:\n",
    "        browser.visit(link)\n",
    "        html = browser.html\n",
    "        soup = BeautifulSoup(html, \"html.parser\")\n",
    "        \n",
    "        # img url\n",
    "        img_url = \"https://astrogeology.usgs.gov\" + soup.find(\"div\", class_=\"wide-image-wrapper\").find(\"img\",class_=\"wide-image\")[\"src\"]\n",
    "        \n",
    "        # Hesmisphere title, drop \"Enhanced\" for each title\n",
    "        hem_title = soup.find(\"section\", class_=\"block\").find(\"h2\", class_=\"title\").text\n",
    "        hem_title = hem_title[:-9]\n",
    "        \n",
    "        hemisphere_image_urls.append({\"title\": hem_title, \"img_url\":img_url})\n",
    "\n",
    "\n",
    "    final_dict = {\n",
    "        \"mars_news\":news_list,\n",
    "        \"featued_image\":featured_image_url,\n",
    "        \"mars_weather\":mars_weather,\n",
    "        \"table\": table_html_data,\n",
    "        \"hem_img_url\": hemisphere_image_urls\n",
    "        }\n",
    "    # print(final_dict)\n",
    "    return final_dict\n",
    "\n",
    "scrape()"
   ]
  },
  {
   "cell_type": "code",
   "execution_count": null,
   "metadata": {},
   "outputs": [],
   "source": []
  },
  {
   "cell_type": "code",
   "execution_count": null,
   "metadata": {},
   "outputs": [],
   "source": [
    "# # Used when you don't know how many arg user will input\n",
    "# # with there are 5 exceeding, argv = (1,2,3,4,5) -> tuple\n",
    "# def test_var_args(f_arg, a , *argv):\n",
    "#     print(\"first normal arg:\", f_arg)\n",
    "#     print(a)\n",
    "#     print(type(argv))\n",
    "#     for arg in argv:\n",
    "#         print(\"another arg through *argv:\", arg)\n",
    "\n",
    "# test_var_args('yasoob', 'python', 'eggs', 'test',\"asd\")"
   ]
  }
 ],
 "metadata": {
  "kernelspec": {
   "display_name": "Python 3",
   "language": "python",
   "name": "python3"
  },
  "language_info": {
   "codemirror_mode": {
    "name": "ipython",
    "version": 3
   },
   "file_extension": ".py",
   "mimetype": "text/x-python",
   "name": "python",
   "nbconvert_exporter": "python",
   "pygments_lexer": "ipython3",
   "version": "3.7.1"
  }
 },
 "nbformat": 4,
 "nbformat_minor": 2
}
